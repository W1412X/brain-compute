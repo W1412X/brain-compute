{
 "cells": [
  {
   "cell_type": "code",
   "execution_count": 1,
   "metadata": {},
   "outputs": [],
   "source": [
    "import numpy as np\n",
    "digits = [\n",
    "    [\n",
    "        [1, 1, 1, 1, 1],\n",
    "        [1, -1, -1, -1, 1],\n",
    "        [1, -1, -1, -1, 1],\n",
    "        [1, -1, -1, -1, 1],\n",
    "        [1, -1, -1, -1, 1],\n",
    "        [1, 1, 1, 1, 1]\n",
    "    ],\n",
    "    [\n",
    "        [-1, -1, 1, -1, -1],\n",
    "        [-1, 1, 1, -1, -1],\n",
    "        [-1, -1, 1, -1, -1],\n",
    "        [-1, -1, 1, -1, -1],\n",
    "        [-1, -1, 1, -1, -1],\n",
    "        [-1, 1, 1, 1, -1]\n",
    "    ],\n",
    "    [\n",
    "        [1, 1, 1, 1, 1],\n",
    "        [-1, -1, -1, -1, 1],\n",
    "        [1, 1, 1, 1, 1],\n",
    "        [1, -1, -1, -1, -1],\n",
    "        [1, -1, -1, -1, -1],\n",
    "        [1, 1, 1, 1, 1]\n",
    "    ]\n",
    "]"
   ]
  },
  {
   "cell_type": "code",
   "execution_count": 2,
   "metadata": {},
   "outputs": [],
   "source": [
    "import numpy as np\n",
    "import random\n",
    "class HebbLearningModel:\n",
    "    def __init__(self, input_size, learning_rate=0.1):\n",
    "        self.input_size = input_size\n",
    "        self.learning_rate = learning_rate\n",
    "        self.weights = np.zeros((input_size,input_size))\n",
    "    def train(self, vectors):\n",
    "        for vector in vectors:\n",
    "            for i in range(len(vector)):\n",
    "                for j in range(len(vector)):\n",
    "                    self.weights[i,j]+=self.learning_rate*vector[i]*vector[j]  \n",
    "    def predict(self,x):\n",
    "        return np.dot(self.weights,x)\n",
    "    def predict_sign(self,x):\n",
    "        p=self.predict(x)\n",
    "        return np.where(p>0,1,-1)"
   ]
  },
  {
   "cell_type": "code",
   "execution_count": 3,
   "metadata": {},
   "outputs": [],
   "source": [
    "hebb=HebbLearningModel(30,0.1)\n",
    "digits=[np.array(i).flatten() for i in digits]\n",
    "for i in range(10):\n",
    "    hebb.train(digits)"
   ]
  },
  {
   "cell_type": "markdown",
   "metadata": {},
   "source": [
    "### 设置添加噪声的函数  "
   ]
  },
  {
   "cell_type": "code",
   "execution_count": 4,
   "metadata": {},
   "outputs": [],
   "source": [
    "def add_noise(vector, noise_level=0.1):\n",
    "    noisy_vector = vector.copy()\n",
    "    for i in range(len(noisy_vector)):\n",
    "        if random.random() < noise_level:\n",
    "            noisy_vector[i] *= -1\n",
    "    return noisy_vector"
   ]
  },
  {
   "cell_type": "markdown",
   "metadata": {},
   "source": [
    "### 展示添加噪声的图像"
   ]
  },
  {
   "cell_type": "code",
   "execution_count": 9,
   "metadata": {},
   "outputs": [
    {
     "data": {
      "image/png": "[encoded data removed]",
      "text/plain": [
       "<Figure size 640x480 with 1 Axes>"
      ]
     },
     "metadata": {},
     "output_type": "display_data"
    },
    {
     "data": {
      "image/png": "[encoded data removed]",
      "text/plain": [
       "<Figure size 640x480 with 1 Axes>"
      ]
     },
     "metadata": {},
     "output_type": "display_data"
    },
    {
     "data": {
      "image/png": "[encoded data removed]",
      "text/plain": [
       "<Figure size 640x480 with 1 Axes>"
      ]
     },
     "metadata": {},
     "output_type": "display_data"
    }
   ],
   "source": [
    "import matplotlib.pyplot as plt \n",
    "noised=add_noise(digits[1].flatten())\n",
    "plt.imshow(noised.reshape(6,5),cmap='gray')\n",
    "plt.show()\n",
    "pred=hebb.predict(noised).reshape(6,5)\n",
    "plt.imshow(pred,cmap='gray')\n",
    "plt.show()\n",
    "pred_sign=hebb.predict_sign(noised).reshape(6,5)\n",
    "plt.imshow(pred_sign,cmap='gray')\n",
    "plt.show()"
   ]
  }
 ],
 "metadata": {
  "kernelspec": {
   "display_name": "venv",
   "language": "python",
   "name": "python3"
  },
  "language_info": {
   "codemirror_mode": {
    "name": "ipython",
    "version": 3
   },
   "file_extension": ".py",
   "mimetype": "text/x-python",
   "name": "python",
   "nbconvert_exporter": "python",
   "pygments_lexer": "ipython3",
   "version": "3.8.10"
  }
 },
 "nbformat": 4,
 "nbformat_minor": 2
}
