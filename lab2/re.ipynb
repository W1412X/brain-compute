{
 "cells": [
  {
   "cell_type": "markdown",
   "metadata": {},
   "source": [
    "### 构建训练数据(真值表)"
   ]
  },
  {
   "cell_type": "code",
   "execution_count": 11,
   "metadata": {},
   "outputs": [],
   "source": [
    "train_data = [\n",
    "    ([0, 0], 0),\n",
    "    ([0, 1], 0),\n",
    "    ([1, 0], 0),\n",
    "    ([1, 1], 1),\n",
    "]\n",
    "\n",
    "train_data_or = [\n",
    "    ([0, 0], 0),\n",
    "    ([0, 1], 1),\n",
    "    ([1, 0], 1),\n",
    "    ([1, 1], 1),\n",
    "]\n",
    "\n",
    "train_data_not = [\n",
    "    ([0], 1),\n",
    "    ([1], 0),\n",
    "]"
   ]
  },
  {
   "cell_type": "markdown",
   "metadata": {},
   "source": [
    "### 定义感知机类"
   ]
  },
  {
   "cell_type": "code",
   "execution_count": 12,
   "metadata": {},
   "outputs": [],
   "source": [
    "import numpy as np\n",
    "class Perceptron:\n",
    "    def __init__(self, input_size):\n",
    "        self.weights = np.random.rand(input_size + 1)#self.weights[0]是偏执项  \n",
    "    def activation(self, x):#激活函数\n",
    "        return 1 if x >= 0 else 0\n",
    "    def predict(self, inputs):#预测\n",
    "        summation = np.dot(inputs, self.weights[1:]) + self.weights[0]\n",
    "        return self.activation(summation)\n",
    "\n",
    "    def train(self, training_data, epochs=1, learning_rate=0.1):\n",
    "        for _ in range(epochs):\n",
    "            for inputs, label in training_data:\n",
    "                prediction = self.predict(inputs)\n",
    "                error = label - prediction#计算误差\n",
    "                self.weights[1:] += learning_rate * error * np.array(inputs)#更新权重\n",
    "                self.weights[0] += learning_rate * error#更新偏执项"
   ]
  },
  {
   "cell_type": "markdown",
   "metadata": {},
   "source": [
    "### 构建和训练感知机  "
   ]
  },
  {
   "cell_type": "code",
   "execution_count": 13,
   "metadata": {},
   "outputs": [],
   "source": [
    "perceptron_and = Perceptron(input_size=2)\n",
    "perceptron_and.train(train_data)\n",
    "perceptron_or = Perceptron(input_size=2)\n",
    "perceptron_or.train(train_data_or)\n",
    "perceptron_not = Perceptron(input_size=1)\n",
    "perceptron_not.train(train_data_not)"
   ]
  },
  {
   "cell_type": "markdown",
   "metadata": {},
   "source": [
    "### 测试"
   ]
  },
  {
   "cell_type": "code",
   "execution_count": 14,
   "metadata": {},
   "outputs": [
    {
     "name": "stdout",
     "output_type": "stream",
     "text": [
      "AND output: 1\n",
      "AND output: 0\n",
      "OR output: 1\n",
      "OR output: 1\n",
      "NOT output: 1\n",
      "NOT output: 1\n"
     ]
    }
   ],
   "source": [
    "test_data_and = [([1, 1], 'AND'), ([0, 0], 'AND')]\n",
    "test_data_or = [([1, 0], 'OR'), ([0, 1], 'OR')]\n",
    "test_data_not = [([1], 'NOT'), ([0], 'NOT')]\n",
    "for data, operation in test_data_and:\n",
    "    print(f\"{operation} output: {perceptron_and.predict(data)}\")\n",
    "for data, operation in test_data_or:\n",
    "    print(f\"{operation} output: {perceptron_or.predict(data)}\")\n",
    "for data, operation in test_data_not:\n",
    "    print(f\"{operation} output: {perceptron_not.predict(data)}\")"
   ]
  },
  {
   "cell_type": "code",
   "execution_count": 16,
   "metadata": {},
   "outputs": [
    {
     "name": "stdout",
     "output_type": "stream",
     "text": [
      "AND parameters:[-0.10869845  0.09001991  0.11199742]\n",
      "NOT parameters:[0.89854619 0.28259356]\n",
      "OR parameters:[0.64036437 0.49402682 0.86493754]\n"
     ]
    }
   ],
   "source": [
    "print(f'AND parameters:{perceptron_and.weights}')\n",
    "print(f'NOT parameters:{perceptron_not.weights}')\n",
    "print(f'OR parameters:{perceptron_or.weights}')"
   ]
  }
 ],
 "metadata": {
  "kernelspec": {
   "display_name": "venv",
   "language": "python",
   "name": "python3"
  },
  "language_info": {
   "codemirror_mode": {
    "name": "ipython",
    "version": 3
   },
   "file_extension": ".py",
   "mimetype": "text/x-python",
   "name": "python",
   "nbconvert_exporter": "python",
   "pygments_lexer": "ipython3",
   "version": "3.8.10"
  }
 },
 "nbformat": 4,
 "nbformat_minor": 2
}
