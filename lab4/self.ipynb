{
 "cells": [
  {
   "cell_type": "markdown",
   "metadata": {},
   "source": [
    "## 实验4 LSTM"
   ]
  },
  {
   "cell_type": "markdown",
   "metadata": {},
   "source": [
    "### 构造数据  "
   ]
  },
  {
   "cell_type": "code",
   "execution_count": 42,
   "metadata": {},
   "outputs": [],
   "source": [
    "import numpy as np\n",
    "import torch  \n",
    "from tqdm import tqdm\n",
    "import torch.nn as nn\n",
    "import torch.optim as optim\n",
    "import numpy as np\n",
    "import math\n",
    "import matplotlib.pyplot as plt  \n",
    "from torch.utils.data import DataLoader,Dataset  \n",
    "#随机生成足够多的八位二进制数  \n",
    "def generate_number(num=100000):\n",
    "    a = np.random.randint(0, 128,num)\n",
    "    b = np.random.randint(0, 128,num)\n",
    "    sum_ab = a + b\n",
    "    return [[list(map(int,np.binary_repr(i,8))),list(map(int,np.binary_repr(u,8))),list(map(int,np.binary_repr(k,8)))] for i,u,k in zip(a,b,sum_ab)]\n"
   ]
  },
  {
   "cell_type": "markdown",
   "metadata": {},
   "source": [
    "### LSTM 的基本结构\n",
    "\n",
    "LSTM 单元主要包括三个门：遗忘门、输入门、输出门，以及细胞状态和隐藏状态\n",
    "\n",
    "#### 1. 遗忘门 (Forget Gate)\n",
    "\n",
    "遗忘门决定了当前细胞状态应该遗忘多少信息。其公式为：\n",
    "\n",
    "$$\n",
    "f_t = \\sigma(W_f \\cdot [h_{t-1}, x_t] + b_f)\n",
    "$$\n",
    "\n",
    "- $ f_t $：遗忘门的输出\n",
    "- $ \\sigma $：sigmoid 激活函数\n",
    "- $ W_f $：遗忘门的权重矩阵\n",
    "- $ h_{t-1} $：上一个时刻的隐藏状态\n",
    "- $ x_t $：当前输入\n",
    "- $ b_f $：遗忘门的偏置\n",
    "\n",
    "#### 2. 输入门 (Input Gate)\n",
    "\n",
    "输入门决定了当前输入将对细胞状态的更新程度。其公式为：\n",
    "\n",
    "$$\n",
    "i_t = \\sigma(W_i \\cdot [h_{t-1}, x_t] + b_i)\n",
    "$$\n",
    "\n",
    "- $ i_t $：输入门的输出\n",
    "- $ W_i $：输入门的权重矩阵\n",
    "- $ b_i $：输入门的偏置\n",
    "\n",
    "#### 3. 细胞状态候选 (Cell State Candidate)\n",
    "\n",
    "细胞状态候选值用于更新细胞状态，其公式为：\n",
    "\n",
    "$$\n",
    "\\tilde{C}_t = \\tanh(W_C \\cdot [h_{t-1}, x_t] + b_C)\n",
    "$$\n",
    "\n",
    "- $ \\tilde{C}_t $：细胞状态候选\n",
    "- $ W_C $：细胞状态候选的权重矩阵\n",
    "- $ b_C $：细胞状态候选的偏置\n",
    "\n",
    "#### 4. 更新细胞状态 (Cell State Update)\n",
    "\n",
    "更新细胞状态的公式为：\n",
    "\n",
    "$$\n",
    "C_t = f_t \\cdot C_{t-1} + i_t \\cdot \\tilde{C}_t\n",
    "$$\n",
    "\n",
    "- $ C_t $：当前细胞状态\n",
    "- $ C_{t-1} $：上一个时刻的细胞状态\n",
    "\n",
    "#### 5. 输出门 (Output Gate)\n",
    "\n",
    "输出门决定了当前细胞状态的哪些部分将被输出。其公式为：\n",
    "\n",
    "$$\n",
    "o_t = \\sigma(W_o \\cdot [h_{t-1}, x_t] + b_o)\n",
    "$$\n",
    "\n",
    "- $ o_t $：输出门的输出\n",
    "- $ W_o $：输出门的权重矩阵\n",
    "- $ b_o $：输出门的偏置\n",
    "\n",
    "#### 6. 隐藏状态 (Hidden State)\n",
    "\n",
    "最终的隐藏状态通过细胞状态和输出门计算得出：\n",
    "\n",
    "$$\n",
    "h_t = o_t \\cdot \\tanh(C_t)\n",
    "$$\n",
    "\n",
    "- $ h_t $：当前隐藏状态\n",
    "\n",
    "### 总结  \n",
    "\n",
    "- **输入门** $i_t$ 决定哪些新信息将被存储在细胞状态中。\n",
    "- **遗忘门** $f_t$ 决定哪些信息将被丢弃。\n",
    "- **输出门** $o_t$ 决定哪些信息将从细胞状态中输出，形成当前的隐藏状态 $h_t$。  "
   ]
  },
  {
   "cell_type": "code",
   "execution_count": 43,
   "metadata": {},
   "outputs": [],
   "source": [
    "class LSTM(nn.Module):\n",
    "    def __init__(self, input_size, hidden_size,output_size=8):\n",
    "        super().__init__()\n",
    "        self.input_size = input_size\n",
    "        self.hidden_size = hidden_size  \n",
    "        #遗忘门的参数定义  \n",
    "        self.U_i = nn.Parameter(torch.Tensor(self.input_size, self.hidden_size))\n",
    "        self.V_i = nn.Parameter(torch.Tensor(self.hidden_size, self.hidden_size))\n",
    "        self.b_i = nn.Parameter(torch.Tensor(self.hidden_size))\n",
    "        #输入门的参数定义  \n",
    "        self.U_f = nn.Parameter(torch.Tensor(self.input_size, self.hidden_size))\n",
    "        self.V_f = nn.Parameter(torch.Tensor(self.hidden_size, self.hidden_size))\n",
    "        self.b_f = nn.Parameter(torch.Tensor(self.hidden_size))\n",
    "        #细胞状态候选值的参数  \n",
    "        self.U_c = nn.Parameter(torch.Tensor(self.input_size, self.hidden_size))\n",
    "        self.V_c = nn.Parameter(torch.Tensor(self.hidden_size, self.hidden_size))\n",
    "        self.b_c = nn.Parameter(torch.Tensor(self.hidden_size))\n",
    "        #输出门的参数  \n",
    "        self.U_o = nn.Parameter(torch.Tensor(self.input_size, self.hidden_size))\n",
    "        self.V_o = nn.Parameter(torch.Tensor(self.hidden_size, self.hidden_size))\n",
    "        self.b_o = nn.Parameter(torch.Tensor(self.hidden_size))  \n",
    "        self.output_layer = nn.Linear(hidden_size, output_size)#没有添加输出层的话效果不太好\n",
    "        self.init_weights()\n",
    "    def init_weights(self):\n",
    "        stdv = 1.0 / math.sqrt(self.hidden_size)\n",
    "        for weight in self.parameters():\n",
    "            weight.data.uniform_(-stdv, stdv)\n",
    "    def forward(self, x):\n",
    "        batch_size, time_step, _ = x.size()\n",
    "        h_t, c_t = (\n",
    "            torch.zeros(batch_size, self.hidden_size).to(x.device),\n",
    "            torch.zeros(batch_size, self.hidden_size).to(x.device)\n",
    "        )\n",
    "        for t in range(time_step):\n",
    "            x_t = x[:, t, :]\n",
    "            #遗忘门的输出\n",
    "            i_t = torch.sigmoid(x_t @ self.U_i+ h_t @ self.V_i + self.b_i)\n",
    "            #输入门的输出\n",
    "            f_t = torch.sigmoid(x_t @ self.U_f+ h_t @ self.V_f + self.b_f)\n",
    "            #候选细胞状态\n",
    "            g_t = torch.tanh(x_t @ self.U_c + h_t @ self.V_c + self.b_c)\n",
    "            #输出门的输出  \n",
    "            o_t = torch.sigmoid(x_t @ self.U_o + h_t @ self.V_o + self.b_o)\n",
    "            #利用候选细胞状态和上一个细胞状态更新细胞状态\n",
    "            c_t = f_t * c_t + i_t * g_t\n",
    "            #计算得到最终的隐藏状态  \n",
    "            h_t = o_t * torch.tanh(c_t)\n",
    "        return self.output_layer(h_t)"
   ]
  },
  {
   "cell_type": "markdown",
   "metadata": {},
   "source": [
    "### 训练部分  "
   ]
  },
  {
   "cell_type": "code",
   "execution_count": 44,
   "metadata": {},
   "outputs": [],
   "source": [
    "class MyDataset(Dataset):\n",
    "    def __init__(self, data, labels):\n",
    "        self.data = data  #输入 训练样本数目*2*8  \n",
    "        self.labels = labels #加法结果  训练样本数目*8  \n",
    "    def __len__(self):\n",
    "        return len(self.data)\n",
    "    def __getitem__(self, idx):\n",
    "        return self.data[idx], self.labels[idx]"
   ]
  },
  {
   "cell_type": "code",
   "execution_count": 45,
   "metadata": {},
   "outputs": [
    {
     "name": "stderr",
     "output_type": "stream",
     "text": [
      "100%|██████████| 50/50 [03:27<00:00,  4.15s/it]\n"
     ]
    }
   ],
   "source": [
    "#划分训练集，测试集    \n",
    "data=generate_number()\n",
    "train_data=data[:80000]\n",
    "test_data=data[80000:]\n",
    "train_x=torch.tensor(train_data,dtype=torch.float32)[:,:2,:]\n",
    "train_y=torch.tensor(train_data,dtype=torch.float32)[:,-1:,:]  \n",
    "train_set=MyDataset(train_x,train_y.reshape(train_y.shape[0],8))\n",
    "test_x=torch.tensor(test_data,dtype=torch.float32)[:,:2,:]\n",
    "test_y=torch.tensor(test_data,dtype=torch.float32)[:,-1:,:]  \n",
    "test_set=MyDataset(test_x,test_y.reshape(test_y.shape[0],8))\n",
    "#定义模型  \n",
    "model=LSTM(8,32,8)\n",
    "criterion=nn.MSELoss()\n",
    "optimizer=optim.Adam(model.parameters(),lr=0.001)  \n",
    "train_loader=DataLoader(train_set,batch_size=64)  \n",
    "def get_test_acc():\n",
    "    pred=model(test_x)\n",
    "    acc_num=0\n",
    "    for p,r in zip(pred,test_y.reshape(test_y.shape[0],8)):\n",
    "        if p.round().detach().numpy().tolist()==r.numpy().tolist():\n",
    "            acc_num+=1\n",
    "    return acc_num/20000\n",
    "#训练\n",
    "epoch_num=50\n",
    "all_loss=[]\n",
    "acc_list=[]\n",
    "for epoch in tqdm(range(epoch_num)):\n",
    "    tmp_loss=[]\n",
    "    for batch,label in train_loader:\n",
    "        optimizer.zero_grad()\n",
    "        outputs=model(batch)\n",
    "        loss=criterion(outputs,label)  \n",
    "        loss.backward()\n",
    "        optimizer.step()  \n",
    "        tmp_loss.append(float(loss))\n",
    "    all_loss.append(float(np.array(tmp_loss).mean()))\n",
    "    acc_list.append(get_test_acc())"
   ]
  },
  {
   "cell_type": "code",
   "execution_count": null,
   "metadata": {},
   "outputs": [],
   "source": [
    "import matplotlib.pyplot as plt "
   ]
  },
  {
   "cell_type": "markdown",
   "metadata": {},
   "source": [
    "### 损失随训练变化曲线  "
   ]
  },
  {
   "cell_type": "code",
   "execution_count": 48,
   "metadata": {},
   "outputs": [
    {
     "data": {
      "text/plain": [
       "[<matplotlib.lines.Line2D at 0x7f39062fe760>]"
      ]
     },
     "execution_count": 48,
     "metadata": {},
     "output_type": "execute_result"
    },
    {
     "data": {
      "image/png": "[encoded data removed]",
      "text/plain": [
       "<Figure size 640x480 with 1 Axes>"
      ]
     },
     "metadata": {},
     "output_type": "display_data"
    }
   ],
   "source": [
    "plt.plot(np.linspace(0,len(all_loss),len(all_loss)),all_loss)"
   ]
  },
  {
   "cell_type": "markdown",
   "metadata": {},
   "source": [
    "### 在验证集上的准确率随训练变化曲线"
   ]
  },
  {
   "cell_type": "code",
   "execution_count": 51,
   "metadata": {},
   "outputs": [
    {
     "data": {
      "text/plain": [
       "[<matplotlib.lines.Line2D at 0x7f3920516ac0>]"
      ]
     },
     "execution_count": 51,
     "metadata": {},
     "output_type": "execute_result"
    },
    {
     "data": {
      "image/png": "[encoded data removed]",
      "text/plain": [
       "<Figure size 640x480 with 1 Axes>"
      ]
     },
     "metadata": {},
     "output_type": "display_data"
    }
   ],
   "source": [
    "plt.plot(np.linspace(0,len(acc_list),len(acc_list)),acc_list,c='g')"
   ]
  }
 ],
 "metadata": {
  "kernelspec": {
   "display_name": "venv",
   "language": "python",
   "name": "python3"
  },
  "language_info": {
   "codemirror_mode": {
    "name": "ipython",
    "version": 3
   },
   "file_extension": ".py",
   "mimetype": "text/x-python",
   "name": "python",
   "nbconvert_exporter": "python",
   "pygments_lexer": "ipython3",
   "version": "3.8.10"
  }
 },
 "nbformat": 4,
 "nbformat_minor": 2
}
