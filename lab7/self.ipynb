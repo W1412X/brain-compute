{
 "cells": [
  {
   "cell_type": "markdown",
   "metadata": {},
   "source": [
    "## 卷积神经网络  \n",
    "### 组成  \n",
    "- 数据输入层，卷积计算层，激励层(ReLU激活函数)，池化层(平均池化和最大池化)，全连接层，输出层  \n",
    "###  按照实验书上写的\n",
    "- 数据输入层  \n",
    "对原始数据做归一话操作，将图像数据处理为均值为0，方差为1的数据  \n",
    "- 卷积计算层  \n",
    "... ... \n",
    "> 这里注意要保证卷积核可以覆盖到图像的边缘区域，所以需要填充"
   ]
  },
  {
   "cell_type": "code",
   "execution_count": 84,
   "metadata": {},
   "outputs": [],
   "source": [
    "import torch\n",
    "import torchvision\n",
    "from torch.utils.data import DataLoader\n",
    "from torchvision import datasets, transforms  \n",
    "import torch.nn as nn\n",
    "import pickle\n",
    "import numpy as np\n",
    "from tqdm import tqdm\n",
    "import matplotlib.pyplot as plt \n",
    "def input_layer(data):#这里做输入层的归一化的操作\n",
    "    data = data / 255.0 \n",
    "    mean_list = torch.mean(data.float(), dim=(1, 2)).view(-1, 1, 1)\n",
    "    std_list = torch.std(data.float(), dim=(1, 2)).view(-1, 1, 1)\n",
    "    data = (data - mean_list) / std_list \n",
    "    return data\n",
    "class NormalizeTransform:\n",
    "    def __call__(self, img):\n",
    "        img = transforms.ToTensor()(img) \n",
    "        return input_layer(img) \n",
    "transform = transforms.Compose([\n",
    "    NormalizeTransform(),\n",
    "])\n",
    "train_data = torchvision.datasets.MNIST('./data', train=True, transform=transform,download=True)\n",
    "test_data = torchvision.datasets.MNIST('./data', train=False,transform=transform)"
   ]
  },
  {
   "cell_type": "code",
   "execution_count": 87,
   "metadata": {},
   "outputs": [],
   "source": [
    "import torch\n",
    "import torch.nn as nn\n",
    "import torch.nn.functional as F\n",
    "class ConvNet(nn.Module):\n",
    "    def __init__(self, out_size=10):\n",
    "        super().__init__()\n",
    "        self.conv1 = nn.Conv2d(in_channels=1, out_channels=32, kernel_size=3)\n",
    "        self.conv2 = nn.Conv2d(in_channels=32, out_channels=64, kernel_size=3)\n",
    "        self.fc1 = nn.Linear(64 * 5 * 5, 128)\n",
    "        self.fc2 = nn.Linear(128, out_size)\n",
    "    def forward(self, x):\n",
    "        x = F.relu(self.conv1(x))\n",
    "        x = F.max_pool2d(x, kernel_size=2, stride=2)\n",
    "        x = F.relu(self.conv2(x))\n",
    "        x = F.max_pool2d(x, kernel_size=2, stride=2)\n",
    "        x = x.view(x.size(0), -1)\n",
    "        x = F.relu(self.fc1(x))\n",
    "        x = self.fc2(x)\n",
    "        return F.log_softmax(x, dim=1)\n"
   ]
  },
  {
   "cell_type": "markdown",
   "metadata": {},
   "source": [
    "### 训练"
   ]
  },
  {
   "cell_type": "code",
   "execution_count": 107,
   "metadata": {},
   "outputs": [
    {
     "name": "stderr",
     "output_type": "stream",
     "text": [
      "100%|██████████| 10/10 [04:51<00:00, 29.16s/it]\n"
     ]
    }
   ],
   "source": [
    "model=ConvNet(10)\n",
    "train_loader=DataLoader(train_data,batch_size=32)\n",
    "test_loader=DataLoader(test_data,batch_size=32)\n",
    "epoch_num=10\n",
    "loss_list=[]\n",
    "accuracy_list=[]\n",
    "criterion=nn.CrossEntropyLoss()  \n",
    "def get_accuracy():#获取在测试集上的精确度  \n",
    "    right_num=0\n",
    "    total_num=0\n",
    "    for data,label in test_loader:\n",
    "        outputs=model(data)\n",
    "        pred=torch.argmax(outputs,dim=1)\n",
    "        for i,p in enumerate(pred):\n",
    "            total_num+=1\n",
    "            if(p==label[i]):\n",
    "                right_num+=1  \n",
    "    return right_num/total_num\n",
    "optimizer=torch.optim.Adam(model.parameters(),lr=0.001)  \n",
    "for epoch in tqdm(range(epoch_num)):\n",
    "    tmp_loss=[]\n",
    "    for data,labels in train_loader:\n",
    "        optimizer.zero_grad()\n",
    "        outputs=model(data)\n",
    "        loss=criterion(outputs,labels)\n",
    "        loss.backward()\n",
    "        optimizer.step()\n",
    "        tmp_loss.append(loss.float())\n",
    "    loss_list.append(torch.mean(torch.tensor(tmp_loss)).float())\n",
    "    accuracy_list.append(get_accuracy())"
   ]
  },
  {
   "cell_type": "code",
   "execution_count": null,
   "metadata": {},
   "outputs": [],
   "source": [
    "import matplotlib.pyplot as plt  \n",
    "plt.plot(np.linspace(0,epoch_num,epoch_num),loss_list)\n",
    "plt.title('loss')\n",
    "plt.show()\n",
    "plt.plot(np.linspace(0,epoch_num,epoch_num),accuracy_list)\n",
    "plt.title('accuracy')\n",
    "plt.show()"
   ]
  }
 ],
 "metadata": {
  "kernelspec": {
   "display_name": "venv",
   "language": "python",
   "name": "python3"
  },
  "language_info": {
   "codemirror_mode": {
    "name": "ipython",
    "version": 3
   },
   "file_extension": ".py",
   "mimetype": "text/x-python",
   "name": "python",
   "nbconvert_exporter": "python",
   "pygments_lexer": "ipython3",
   "version": "3.8.10"
  }
 },
 "nbformat": 4,
 "nbformat_minor": 2
}
