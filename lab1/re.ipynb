{
 "cells": [
  {
   "cell_type": "markdown",
   "metadata": {},
   "source": [
    "### 构建数字矩阵"
   ]
  },
  {
   "cell_type": "code",
   "execution_count": 143,
   "metadata": {},
   "outputs": [],
   "source": [
    "import numpy as np\n",
    "import matplotlib.pyplot as plt\n",
    "\n",
    "# 定义每个数字的 6x5 像素矩阵\n",
    "digit_matrices = {\n",
    "    0: [[1, 1, 1, 1, 1],\n",
    "        [1, -1, -1, -1, 1],\n",
    "        [1, -1, -1, -1, 1],\n",
    "        [1, -1, -1, -1, 1],\n",
    "        [1, -1, -1, -1, 1],\n",
    "        [1, 1, 1, 1, 1]],\n",
    "    1: [[-1, 1, 1, -1, -1],\n",
    "        [-1, -1, 1, -1, -1],\n",
    "        [-1, -1, 1, -1, -1],\n",
    "        [-1, -1, 1, -1, -1],\n",
    "        [-1, -1, 1, -1, -1],\n",
    "        [-1, 1, 1, 1, -1]],\n",
    "    2: [[1, 1, 1, 1, 1],\n",
    "        [-1, -1, -1, -1, 1],\n",
    "        [1, 1, 1, 1, 1],\n",
    "        [1, -1, -1, -1, -1],\n",
    "        [1, -1, -1, -1, -1],\n",
    "        [1, 1, 1, 1, 1]],\n",
    "    3: [[1, 1, 1, 1, 1],\n",
    "        [-1, -1, -1, -1, 1],\n",
    "        [1, 1, 1, 1, 1],\n",
    "        [1, 1, 1, 1, 1],\n",
    "        [-1, -1, -1, -1, 1],\n",
    "        [1, 1, 1, 1, 1]],\n",
    "    4: [[1, -1, -1, 1, -1],\n",
    "        [1, -1, -1, 1, -1],\n",
    "        [1, -1, -1, 1, -1],\n",
    "        [1, 1, 1, 1, 1],\n",
    "        [-1, -1, -1, 1, -1],\n",
    "        [-1, -1, -1, 1, -1]],\n",
    "    5: [[1, 1, 1, 1, 1],\n",
    "        [1, -1, -1, -1, -1],\n",
    "        [1, 1, 1, 1, 1],\n",
    "        [-1, -1, -1, -1, 1],\n",
    "        [-1, -1, -1, -1, 1],\n",
    "        [1, 1, 1, 1, 1]],\n",
    "    6: [[1, 1, 1, 1, 1],\n",
    "        [1, -1, -1, -1, -1],\n",
    "        [1, 1, 1, 1, 1],\n",
    "        [1, -1, -1, -1, 1],\n",
    "        [1, -1, -1, -1, 1],\n",
    "        [1, 1, 1, 1, 1]],\n",
    "    7: [[1, 1, 1, 1, 1],\n",
    "        [-1, -1, -1, -1, 1],\n",
    "        [-1, -1, -1, -1, 1],\n",
    "        [-1, -1, -1, -1, 1],\n",
    "        [-1, -1, -1, -1, 1],\n",
    "        [-1, -1, -1, -1, 1]],\n",
    "    8: [[1, 1, 1, 1, 1],\n",
    "        [1, -1, -1, -1, 1],\n",
    "        [1, 1, 1, 1, 1],\n",
    "        [1, -1, -1, -1, 1],\n",
    "        [1, -1, -1, -1, 1],\n",
    "        [1, 1, 1, 1, 1]],\n",
    "    9: [[1, 1, 1, 1, 1],\n",
    "        [1, -1, -1, -1, 1],\n",
    "        [1, 1, 1, 1, 1],\n",
    "        [-1, -1, -1, -1, 1],\n",
    "        [-1, -1, -1, -1, 1],\n",
    "        [1, 1, 1, 1, 1]]\n",
    "}\n",
    "\n",
    "# 展开为1x30的矩阵\n",
    "number_matrix_list = [np.array(digit_matrices[i]).flatten() for i in range(10)]"
   ]
  },
  {
   "cell_type": "markdown",
   "metadata": {},
   "source": [
    "### 构建神经网络  \n",
    "- 训练部分  \n",
    "  - 每个数字连接强度由外积计算，得到30*30的矩阵\n",
    "  - 每次累加可以得到一个30*30的权重矩阵(对角矩阵)"
   ]
  },
  {
   "cell_type": "code",
   "execution_count": 144,
   "metadata": {},
   "outputs": [],
   "source": [
    "class HopfieldNetwork:\n",
    "    def __init__(self, node_num):\n",
    "        self.node_num = node_num\n",
    "        self.weights = np.zeros((node_num, node_num))\n",
    "        \n",
    "    def train(self, training_data):\n",
    "        for pattern in training_data:\n",
    "            for i in range(self.node_num):\n",
    "                for j in range(self.node_num):\n",
    "                    if i != j:\n",
    "                        self.weights[i, j] += (2 * pattern[i] - 1) * (2 * pattern[j] - 1)\n",
    "            self.weights/=30\n",
    "    def predict(self, input_pattern, steps=100):\n",
    "        pattern = np.copy(input_pattern)\n",
    "        for _ in range(steps):\n",
    "            for i in range(self.node_num):\n",
    "                sum_input = np.dot(self.weights[:, i], pattern) - self.weights[i, i] * pattern[i]\n",
    "                pattern[i] = 1 if sum_input >= 0 else 0\n",
    "        return pattern\n",
    "    def visualize_pattern(self, pattern):\n",
    "        image = pattern.reshape(6,5)\n",
    "        plt.imshow(image)\n",
    "        plt.show()"
   ]
  },
  {
   "cell_type": "code",
   "execution_count": 148,
   "metadata": {},
   "outputs": [],
   "source": [
    "def add_noise(pattern, percentage):\n",
    "    noisy_pattern = pattern.copy()\n",
    "    n_noise = int(percentage * len(pattern))\n",
    "    noise_indices = np.random.choice(len(pattern), n_noise, replace=False)\n",
    "    noisy_pattern[noise_indices] *= -1\n",
    "    return noisy_pattern\n"
   ]
  },
  {
   "cell_type": "code",
   "execution_count": 149,
   "metadata": {},
   "outputs": [
    {
     "data": {
      "image/png": "[encoded data removed]",
      "text/plain": [
       "<Figure size 1500x500 with 3 Axes>"
      ]
     },
     "metadata": {},
     "output_type": "display_data"
    }
   ],
   "source": [
    "def plot_pattern(pattern, title):\n",
    "    plt.imshow(pattern.reshape(6, 5), interpolation='none')\n",
    "    plt.title(title)\n",
    "    plt.axis('off')\n",
    "network = HopfieldNetwork(node_num=30)\n",
    "network.train(number_matrix_list)\n",
    "# 选择一个测试模式并添加噪声\n",
    "test_index = 0  # 例如，测试数字0\n",
    "test_pattern = number_matrix_list[test_index]\n",
    "noisy_pattern = add_noise(test_pattern, percentage=0.1)\n",
    "# 运行网络\n",
    "recovered_pattern = network.predict(noisy_pattern, steps=10)\n",
    "# 可视化原始、带噪声和恢复的模式\n",
    "plt.figure(figsize=(15, 5))\n",
    "plt.subplot(1, 3, 1)\n",
    "plot_pattern(test_pattern, 'Original Pattern')\n",
    "plt.subplot(1, 3, 2)\n",
    "plot_pattern(noisy_pattern, 'Noisy Pattern')\n",
    "plt.subplot(1, 3, 3)\n",
    "plot_pattern(recovered_pattern, 'Recovered Pattern')\n",
    "plt.show()\n"
   ]
  }
 ],
 "metadata": {
  "kernelspec": {
   "display_name": "venv",
   "language": "python",
   "name": "python3"
  },
  "language_info": {
   "codemirror_mode": {
    "name": "ipython",
    "version": 3
   },
   "file_extension": ".py",
   "mimetype": "text/x-python",
   "name": "python",
   "nbconvert_exporter": "python",
   "pygments_lexer": "ipython3",
   "version": "3.8.10"
  }
 },
 "nbformat": 4,
 "nbformat_minor": 2
}
