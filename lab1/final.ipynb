{
 "cells": [
  {
   "cell_type": "code",
   "execution_count": 128,
   "metadata": {},
   "outputs": [],
   "source": [
    "import numpy as np\n",
    "import matplotlib.pyplot as plt\n",
    "\n",
    "# 定义每个数字的 6x5 像素矩阵\n",
    "digit_matrices = {\n",
    "    0: [[1, 1, 1, 1, 1],\n",
    "        [1, -1, -1, -1, 1],\n",
    "        [1, -1, -1, -1, 1],\n",
    "        [1, -1, -1, -1, 1],\n",
    "        [1, -1, -1, -1, 1],\n",
    "        [1, 1, 1, 1, 1]],\n",
    "    1: [[-1, 1, 1, -1, -1],\n",
    "        [-1, -1, 1, -1, -1],\n",
    "        [-1, -1, 1, -1, -1],\n",
    "        [-1, -1, 1, -1, -1],\n",
    "        [-1, -1, 1, -1, -1],\n",
    "        [-1, 1, 1, 1, -1]],\n",
    "    2: [[1, 1, 1, 1, 1],\n",
    "        [-1, -1, -1, -1, 1],\n",
    "        [1, 1, 1, 1, 1],\n",
    "        [1, -1, -1, -1, -1],\n",
    "        [1, -1, -1, -1, -1],\n",
    "        [1, 1, 1, 1, 1]],\n",
    "    3: [[1, 1, 1, 1, 1],\n",
    "        [-1, -1, -1, -1, 1],\n",
    "        [1, 1, 1, 1, 1],\n",
    "        [1, 1, 1, 1, 1],\n",
    "        [-1, -1, -1, -1, 1],\n",
    "        [1, 1, 1, 1, 1]],\n",
    "    4: [[1, -1, -1, 1, -1],\n",
    "        [1, -1, -1, 1, -1],\n",
    "        [1, -1, -1, 1, -1],\n",
    "        [1, 1, 1, 1, 1],\n",
    "        [-1, -1, -1, 1, -1],\n",
    "        [-1, -1, -1, 1, -1]],\n",
    "    5: [[1, 1, 1, 1, 1],\n",
    "        [1, -1, -1, -1, -1],\n",
    "        [1, 1, 1, 1, 1],\n",
    "        [-1, -1, -1, -1, 1],\n",
    "        [-1, -1, -1, -1, 1],\n",
    "        [1, 1, 1, 1, 1]],\n",
    "    6: [[1, 1, 1, 1, 1],\n",
    "        [1, -1, -1, -1, -1],\n",
    "        [1, 1, 1, 1, 1],\n",
    "        [1, -1, -1, -1, 1],\n",
    "        [1, -1, -1, -1, 1],\n",
    "        [1, 1, 1, 1, 1]],\n",
    "    7: [[1, 1, 1, 1, 1],\n",
    "        [-1, -1, -1, -1, 1],\n",
    "        [-1, -1, -1, -1, 1],\n",
    "        [-1, -1, -1, -1, 1],\n",
    "        [-1, -1, -1, -1, 1],\n",
    "        [-1, -1, -1, -1, 1]],\n",
    "    8: [[1, 1, 1, 1, 1],\n",
    "        [1, -1, -1, -1, 1],\n",
    "        [1, 1, 1, 1, 1],\n",
    "        [1, -1, -1, -1, 1],\n",
    "        [1, -1, -1, -1, 1],\n",
    "        [1, 1, 1, 1, 1]],\n",
    "    9: [[1, 1, 1, 1, 1],\n",
    "        [1, -1, -1, -1, 1],\n",
    "        [1, 1, 1, 1, 1],\n",
    "        [-1, -1, -1, -1, 1],\n",
    "        [-1, -1, -1, -1, 1],\n",
    "        [1, 1, 1, 1, 1]]\n",
    "}\n",
    "\n",
    "# 展开为1x30的矩阵\n",
    "number_matrix_list = [np.array(digit_matrices[i]).flatten() for i in range(10)]"
   ]
  },
  {
   "cell_type": "code",
   "execution_count": 129,
   "metadata": {},
   "outputs": [],
   "source": [
    "import numpy as np\n",
    "import matplotlib.pyplot as plt\n",
    "class HopfieldNetwork:\n",
    "    def __init__(self, size):\n",
    "        self.size = size\n",
    "        self.weights = np.zeros((size, size))\n",
    "    def train(self, patterns):\n",
    "        for pattern in patterns:\n",
    "            self.weights += np.outer(pattern, pattern)\n",
    "        np.fill_diagonal(self.weights,0)\n",
    "        self.weights/=len(patterns)\n",
    "    def predict(self, pattern, iterations=10):\n",
    "        result = pattern.copy()\n",
    "        for _ in range(iterations):\n",
    "            for i in range(self.size):\n",
    "                net_input = np.dot(self.weights[i, :], result)\n",
    "                result[i] = 1 if net_input > 0 else -1\n",
    "        return result\n",
    "    def visualize(self, pattern):\n",
    "        plt.imshow(pattern.reshape(6, 5))\n",
    "        plt.show()\n"
   ]
  },
  {
   "cell_type": "code",
   "execution_count": 130,
   "metadata": {},
   "outputs": [],
   "source": [
    "# 初始化网络\n",
    "hn = HopfieldNetwork(size=30)\n",
    "\n",
    "# 训练网络\n",
    "hn.train(number_matrix_list)\n"
   ]
  },
  {
   "cell_type": "code",
   "execution_count": 131,
   "metadata": {},
   "outputs": [],
   "source": [
    "def add_noise_to_digit(digit_matrix, noise_level=0):\n",
    "    \"\"\" 在数字矩阵中添加噪声 \"\"\"\n",
    "    noisy_digit = digit_matrix.copy()\n",
    "    noise_indices = np.random.choice(np.arange(30), noise_level, replace=False)\n",
    "    noisy_digit[noise_indices] *= -1  # 反转选定像素\n",
    "    return noisy_digit\n"
   ]
  },
  {
   "cell_type": "code",
   "execution_count": 134,
   "metadata": {},
   "outputs": [
    {
     "data": {
      "image/png": "[encoded data removed]",
      "text/plain": [
       "<Figure size 640x480 with 1 Axes>"
      ]
     },
     "metadata": {},
     "output_type": "display_data"
    },
    {
     "data": {
      "image/png": "[encoded data removed]",
      "text/plain": [
       "<Figure size 640x480 with 1 Axes>"
      ]
     },
     "metadata": {},
     "output_type": "display_data"
    },
    {
     "data": {
      "text/plain": [
       "<matplotlib.image.AxesImage at 0x7fa1ff5bcf70>"
      ]
     },
     "execution_count": 134,
     "metadata": {},
     "output_type": "execute_result"
    },
    {
     "data": {
      "image/png": "[encoded data removed]",
      "text/plain": [
       "<Figure size 640x480 with 1 Axes>"
      ]
     },
     "metadata": {},
     "output_type": "display_data"
    }
   ],
   "source": [
    "# 生成并显示带噪声的数字\n",
    "noisy_digit = add_noise_to_digit(number_matrix_list[8], noise_level=2)\n",
    "hn.visualize(noisy_digit)\n",
    "\n",
    "# 使用网络进行识别并显示结果\n",
    "recovered_digit = hn.predict(noisy_digit)\n",
    "hn.visualize(recovered_digit)\n",
    "plt.imshow(hn.weights)\n"
   ]
  }
 ],
 "metadata": {
  "kernelspec": {
   "display_name": "venv",
   "language": "python",
   "name": "python3"
  },
  "language_info": {
   "codemirror_mode": {
    "name": "ipython",
    "version": 3
   },
   "file_extension": ".py",
   "mimetype": "text/x-python",
   "name": "python",
   "nbconvert_exporter": "python",
   "pygments_lexer": "ipython3",
   "version": "3.8.10"
  }
 },
 "nbformat": 4,
 "nbformat_minor": 2
}
